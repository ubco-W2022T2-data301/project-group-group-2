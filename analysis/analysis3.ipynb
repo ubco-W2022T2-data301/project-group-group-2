{
 "cells": [
  {
   "attachments": {},
   "cell_type": "markdown",
   "metadata": {},
   "source": [
    "# Stephen Lennox"
   ]
  },
  {
   "attachments": {},
   "cell_type": "markdown",
   "metadata": {},
   "source": [
    "## Research question/interests\n",
    "\n",
    "I am very interested in the current housing markets in Canada. I am currently enrolled in the co-op program and due to a general lack of success on my remote/local job hunt, I am forced to look outside of the province at on-site positions to fufill my co-op graduation requirements. That means that in other provinces like Alberta, Quebec and Ontario: I need to know what the status of housiing is and where in order to make informed financial choices on where I potentially move to. The co-op program may force me to move 3 different times in 4 month periods so a list of good places to move to that corespond to job offerings will be very beneficial in the short term in my housing search. Also the qualitative data will help me keep informed on if one place is good to stay in should I recieve a more permanent job offer from any of the companies I end up working for. "
   ]
  }
 ],
 "metadata": {
  "kernelspec": {
   "display_name": "base",
   "language": "python",
   "name": "python3"
  },
  "language_info": {
   "codemirror_mode": {
    "name": "ipython",
    "version": 3
   },
   "file_extension": ".py",
   "mimetype": "text/x-python",
   "name": "python",
   "nbconvert_exporter": "python",
   "pygments_lexer": "ipython3",
   "version": "3.10.8"
  },
  "vscode": {
   "interpreter": {
    "hash": "3993f24e901703729274019e265eb2adc2d404177cc763a8c114dbb48bfcc4ae"
   }
  }
 },
 "nbformat": 4,
 "nbformat_minor": 4
}
