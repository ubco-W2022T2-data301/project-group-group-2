{
 "cells": [
  {
   "cell_type": "markdown",
   "metadata": {},
   "source": [
    "# Stephen Lennox"
   ]
  },
  {
   "cell_type": "markdown",
   "metadata": {},
   "source": [
    "## Research question/interests\n",
    "\n",
    "I am very interested in the current housing markets in Canada. I am currently enrolled in the co-op program and due to a general lack of success on my remote/local job hunt, I am forced to look outside of the province at on-site positions to fufill my co-op graduation requirements. That means that in other provinces like Alberta, Quebec and Ontario: I need to know what the status of housing is and where in order to make informed financial choices on where I potentially move to. My research question is: *What is the best place to live in provincial capital cities based the housing index of the last year?*"
   ]
  },
  {
   "cell_type": "code",
   "execution_count": 2,
   "metadata": {},
   "outputs": [],
   "source": [
    "import seaborn as sns\n",
    "import numpy as np\n",
    "import pandas as pd"
   ]
  },
  {
   "cell_type": "code",
   "execution_count": 5,
   "metadata": {},
   "outputs": [],
   "source": [
    "df_index= pd.read_csv(\"../data/raw/Montly Data/Montly-index.csv\")\n",
    "df_quality = pd.read_csv(\"../data/raw/Quality Long-Form Data/Housing-quality.csv\")"
   ]
  }
 ],
 "metadata": {
  "kernelspec": {
   "display_name": "Python 3 (ipykernel)",
   "language": "python",
   "name": "python3"
  },
  "language_info": {
   "codemirror_mode": {
    "name": "ipython",
    "version": 3
   },
   "file_extension": ".py",
   "mimetype": "text/x-python",
   "name": "python",
   "nbconvert_exporter": "python",
   "pygments_lexer": "ipython3",
   "version": "3.10.9"
  },
  "vscode": {
   "interpreter": {
    "hash": "3993f24e901703729274019e265eb2adc2d404177cc763a8c114dbb48bfcc4ae"
   }
  }
 },
 "nbformat": 4,
 "nbformat_minor": 4
}
