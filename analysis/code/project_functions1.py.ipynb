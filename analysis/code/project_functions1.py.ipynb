{
 "cells": [
  {
   "cell_type": "code",
   "execution_count": 1,
   "id": "2f315379",
   "metadata": {},
   "outputs": [],
   "source": [
    "import pandas as pd\n",
    "import numpy as np\n",
    "import seaborn as sns\n",
    "import matplotlib.pyplot as plt\n",
    "sns.set_theme(style=\"whitegrid\")"
   ]
  },
  {
   "cell_type": "code",
   "execution_count": 3,
   "id": "b7b799fd",
   "metadata": {},
   "outputs": [],
   "source": [
    "df_index = (pd.read_csv(\"../../data/raw/Montly Data/Montly-index.csv\")\n",
    "           .drop([\"UOM_ID\",\"SCALAR_ID\", \"COORDINATE\",\"SYMBOL\",\"TERMINATED\",\"DECIMALS\"], axis =1)\n",
    "           .groupby([\"REF_DATE\",\"VALUE\"]).agg('mean','count')\n",
    "           .dropna())"
   ]
  },
  {
   "cell_type": "code",
   "execution_count": 4,
   "id": "e3802ea1",
   "metadata": {},
   "outputs": [
    {
     "data": {
      "text/html": [
       "<div>\n",
       "<style scoped>\n",
       "    .dataframe tbody tr th:only-of-type {\n",
       "        vertical-align: middle;\n",
       "    }\n",
       "\n",
       "    .dataframe tbody tr th {\n",
       "        vertical-align: top;\n",
       "    }\n",
       "\n",
       "    .dataframe thead th {\n",
       "        text-align: right;\n",
       "    }\n",
       "</style>\n",
       "<table border=\"1\" class=\"dataframe\">\n",
       "  <thead>\n",
       "    <tr style=\"text-align: right;\">\n",
       "      <th></th>\n",
       "      <th></th>\n",
       "    </tr>\n",
       "    <tr>\n",
       "      <th>REF_DATE</th>\n",
       "      <th>VALUE</th>\n",
       "    </tr>\n",
       "  </thead>\n",
       "  <tbody>\n",
       "    <tr>\n",
       "      <th rowspan=\"5\" valign=\"top\">1981-01</th>\n",
       "      <th>16.7</th>\n",
       "    </tr>\n",
       "    <tr>\n",
       "      <th>18.7</th>\n",
       "    </tr>\n",
       "    <tr>\n",
       "      <th>19.4</th>\n",
       "    </tr>\n",
       "    <tr>\n",
       "      <th>19.8</th>\n",
       "    </tr>\n",
       "    <tr>\n",
       "      <th>20.3</th>\n",
       "    </tr>\n",
       "    <tr>\n",
       "      <th>...</th>\n",
       "      <th>...</th>\n",
       "    </tr>\n",
       "    <tr>\n",
       "      <th rowspan=\"5\" valign=\"top\">2022-12</th>\n",
       "      <th>156.7</th>\n",
       "    </tr>\n",
       "    <tr>\n",
       "      <th>158.8</th>\n",
       "    </tr>\n",
       "    <tr>\n",
       "      <th>161.2</th>\n",
       "    </tr>\n",
       "    <tr>\n",
       "      <th>175.1</th>\n",
       "    </tr>\n",
       "    <tr>\n",
       "      <th>188.9</th>\n",
       "    </tr>\n",
       "  </tbody>\n",
       "</table>\n",
       "<p>36402 rows × 0 columns</p>\n",
       "</div>"
      ],
      "text/plain": [
       "Empty DataFrame\n",
       "Columns: []\n",
       "Index: [(1981-01, 16.7), (1981-01, 18.7), (1981-01, 19.4), (1981-01, 19.8), (1981-01, 20.3), (1981-01, 20.7), (1981-01, 22.6), (1981-01, 24.8), (1981-01, 25.3), (1981-01, 26.0), (1981-01, 26.6), (1981-01, 27.0), (1981-01, 27.8), (1981-01, 28.0), (1981-01, 28.3), (1981-01, 28.5), (1981-01, 29.3), (1981-01, 30.0), (1981-01, 30.1), (1981-01, 30.3), (1981-01, 30.4), (1981-01, 30.6), (1981-01, 30.8), (1981-01, 31.4), (1981-01, 31.8), (1981-01, 32.5), (1981-01, 32.6), (1981-01, 32.7), (1981-01, 33.0), (1981-01, 34.0), (1981-01, 34.9), (1981-01, 35.6), (1981-01, 35.8), (1981-01, 36.1), (1981-01, 36.5), (1981-01, 37.5), (1981-01, 38.0), (1981-01, 38.2), (1981-01, 39.1), (1981-01, 39.9), (1981-01, 40.6), (1981-01, 43.4), (1981-01, 46.0), (1981-01, 47.5), (1981-01, 50.5), (1981-01, 51.0), (1981-01, 51.4), (1981-01, 54.6), (1981-01, 54.7), (1981-01, 55.9), (1981-01, 61.2), (1981-01, 61.4), (1981-01, 64.9), (1981-01, 83.5), (1981-01, 90.5), (1981-01, 96.1), (1981-01, 128.7), (1981-01, 206.8), (1981-02, 17.1), (1981-02, 18.7), (1981-02, 19.6), (1981-02, 20.2), (1981-02, 20.3), (1981-02, 20.7), (1981-02, 21.2), (1981-02, 23.2), (1981-02, 24.9), (1981-02, 25.5), (1981-02, 26.0), (1981-02, 26.9), (1981-02, 27.5), (1981-02, 28.1), (1981-02, 28.5), (1981-02, 28.6), (1981-02, 28.8), (1981-02, 29.7), (1981-02, 30.2), (1981-02, 30.4), (1981-02, 30.5), (1981-02, 30.6), (1981-02, 30.8), (1981-02, 31.8), (1981-02, 32.3), (1981-02, 32.5), (1981-02, 32.6), (1981-02, 32.9), (1981-02, 33.0), (1981-02, 34.1), (1981-02, 35.4), (1981-02, 35.6), (1981-02, 35.8), (1981-02, 36.1), (1981-02, 36.2), (1981-02, 36.5), (1981-02, 36.8), (1981-02, 37.5), (1981-02, 38.0), (1981-02, 38.7), (1981-02, 39.3), (1981-02, 39.9), ...]\n",
       "\n",
       "[36402 rows x 0 columns]"
      ]
     },
     "execution_count": 4,
     "metadata": {},
     "output_type": "execute_result"
    }
   ],
   "source": [
    "df_index"
   ]
  },
  {
   "cell_type": "code",
   "execution_count": null,
   "id": "3a9c8642",
   "metadata": {},
   "outputs": [],
   "source": []
  }
 ],
 "metadata": {
  "kernelspec": {
   "display_name": "Python 3 (ipykernel)",
   "language": "python",
   "name": "python3"
  },
  "language_info": {
   "codemirror_mode": {
    "name": "ipython",
    "version": 3
   },
   "file_extension": ".py",
   "mimetype": "text/x-python",
   "name": "python",
   "nbconvert_exporter": "python",
   "pygments_lexer": "ipython3",
   "version": "3.10.8"
  }
 },
 "nbformat": 4,
 "nbformat_minor": 5
}
