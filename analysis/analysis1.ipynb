{
 "cells": [
  {
   "cell_type": "markdown",
   "metadata": {},
   "source": [
    "# Jack Saunders"
   ]
  },
  {
   "cell_type": "markdown",
   "metadata": {},
   "source": [
    "## Research question/interests\n",
    "\n",
    "My Research Question will be: Looking at the past data, can we reasonably conclude if the housing market will continue to inflate, or does the data show that the market is more likely to level out, or even crash?\n",
    "\n",
    "\n",
    "\n",
    "This question will need to look at the current data, as well as recent history data in order to determine whether or not there is a trend we can predict according to the said data. Using graphs and visualizations, I want to determine if there is enough of a pattern to follow which will allow me to reasonably predict the future of the market. I would probably have to heavily base my visualizations based on the dates. In order to provide a prediction however the proof of a trend must be very convincing so variance will be very important to include as well.\n",
    "\n"
   ]
  },
  {
   "cell_type": "code",
   "execution_count": 1,
   "metadata": {},
   "outputs": [],
   "source": [
    "import seaborn as sns\n",
    "import numpy as np\n",
    "import pandas as pd"
   ]
  },
  {
   "cell_type": "code",
   "execution_count": 2,
   "metadata": {},
   "outputs": [],
   "source": [
    "df_index= pd.read_csv(\"../data/raw/Montly Data/Montly-index.csv\")\n",
    "df_quality = pd.read_csv(\"../data/raw/Quality Long-Form Data/Housing-quality.csv\")"
   ]
  },
  {
   "cell_type": "code",
   "execution_count": null,
   "metadata": {},
   "outputs": [],
   "source": []
  }
 ],
 "metadata": {
  "kernelspec": {
   "display_name": "Python 3 (ipykernel)",
   "language": "python",
   "name": "python3"
  },
  "language_info": {
   "codemirror_mode": {
    "name": "ipython",
    "version": 3
   },
   "file_extension": ".py",
   "mimetype": "text/x-python",
   "name": "python",
   "nbconvert_exporter": "python",
   "pygments_lexer": "ipython3",
   "version": "3.10.9"
  }
 },
 "nbformat": 4,
 "nbformat_minor": 4
}
