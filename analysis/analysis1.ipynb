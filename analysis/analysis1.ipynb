{
 "cells": [
  {
   "cell_type": "markdown",
   "metadata": {},
   "source": [
    "# Jack Saunders"
   ]
  },
  {
   "cell_type": "markdown",
   "metadata": {},
   "source": [
    "## Research question/interests\n",
    "\n",
    "My research question will be along the lines of, can I accurately predict whether or not it would be possible for my self to purchase a home in Canada once I graduate from university. As a domestic univertsity student I will be looking to petentially purchase/rent a placce once graduated, and would like to see if that is feasible within a few years of graduation. The housing market in Canada has been in the news recently and has been descrribed as very inflated, I was looking to predict what may happen in the future based on analysis of the data from the past. Is it possible that the market will diminish in the next 2 years? 5 years? 10? Based on past parts of the market is it possible to predict those things or have the past few years been so eradic due to the pandemic and will return to a regular inflation rates once things settle down again. Important data for this question will in include past trends, especially when the data from times like 2008 where there was a similar market crash to the one we are experiencing these days. "
   ]
  }
 ],
 "metadata": {
  "kernelspec": {
   "display_name": "Python 3 (ipykernel)",
   "language": "python",
   "name": "python3"
  },
  "language_info": {
   "codemirror_mode": {
    "name": "ipython",
    "version": 3
   },
   "file_extension": ".py",
   "mimetype": "text/x-python",
   "name": "python",
   "nbconvert_exporter": "python",
   "pygments_lexer": "ipython3",
   "version": "3.10.8"
  }
 },
 "nbformat": 4,
 "nbformat_minor": 4
}
