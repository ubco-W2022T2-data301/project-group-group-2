{
 "cells": [
  {
   "cell_type": "markdown",
   "metadata": {
    "tags": []
   },
   "source": [
    "# Aditya Goswami"
   ]
  },
  {
   "cell_type": "markdown",
   "metadata": {
    "tags": []
   },
   "source": [
    "## Research question/interests\n",
    "\n",
    "My research question would explore the world of decentralized real estate and how the economic trends in the market would affect the future of an idea like this one. As an international student, thinking of buying a house in this country after becoming a PR is a far-fetched dream for me (looking at the education debt I'll be having on me after graduation), so I thought of exploring how being a part owner of a property would benefit my credit and make it easier for me to pay off the loan as quick as possible. My research on the topic would follow a pattern where I'd use the data which explains how the rising prices of real estate is making people think of exploring the decentralized market, which provinces according to the rising price index would be ideal and the first ones to invest in an idea like this. I'd be making a prediction for all the companies trying to build a system where people can make part of their property liquid and available for the market to buy, by looking at the previous economic trends in our dataset.\n"
   ]
  }
 ],
 "metadata": {
  "kernelspec": {
   "display_name": "Python 3 (ipykernel)",
   "language": "python",
   "name": "python3"
  },
  "language_info": {
   "codemirror_mode": {
    "name": "ipython",
    "version": 3
   },
   "file_extension": ".py",
   "mimetype": "text/x-python",
   "name": "python",
   "nbconvert_exporter": "python",
   "pygments_lexer": "ipython3",
   "version": "3.10.8"
  }
 },
 "nbformat": 4,
 "nbformat_minor": 4
}
